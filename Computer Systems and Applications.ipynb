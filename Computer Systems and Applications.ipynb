{
 "cells": [
  {
   "cell_type": "markdown",
   "id": "67e8e29b-abb0-4ae7-8bb4-e6a3bc681efc",
   "metadata": {},
   "source": [
    "**ASSIGNMENT**\n",
    "- Multiprogramming on Python\n",
    "- Python Threading Library\n",
    "- Python Multiprocessing Library"
   ]
  },
  {
   "cell_type": "markdown",
   "id": "8edb02cf-1b32-40e8-8e3a-983daa3c054a",
   "metadata": {},
   "source": [
    "# Question 1. (3 marks)\n",
    "\n",
    "**Examine the code you have typed in, and explain how this code works. That is, why it produces two threads that print once per second and once every two seconds.**"
   ]
  },
  {
   "cell_type": "markdown",
   "id": "32eab752-a58f-4f5a-844f-e848e84de0b0",
   "metadata": {},
   "source": [
    "## Answer for Q1:"
   ]
  },
  {
   "cell_type": "code",
   "execution_count": null,
   "id": "5f294cdf-78c4-40a6-bebb-5698b3ad1057",
   "metadata": {
    "tags": []
   },
   "outputs": [],
   "source": [
    "# t1.py\n",
    "\n",
    "import threading                                   \n",
    "import time\n",
    "\n",
    "x = 1\n",
    "\n",
    "# First thread. We pass in one parameter\n",
    "def thread1(param):\n",
    "    global x\n",
    "    while True:\n",
    "        x = x + 1\n",
    "        print(\"This is thread 1. x is %d\" % x)\n",
    "        time.sleep(param)\n",
    "        \n",
    "# Second thread. We pass in two parameters\n",
    "def thread2(param1, param2):\n",
    "    global x\n",
    "    while True:\n",
    "        x = x * 2\n",
    "        print(\"This is thread 2. Param 2 is %d. x is %d\" % (param2, x))\n",
    "        time.sleep(param1)\n",
    "        \n",
    "# Create the first thread\n",
    "th1 = threading.Thread(target = thread1, args = [1, ])\n",
    "th1.start()\n",
    "\n",
    "# Create the second thread\n",
    "th2 = threading.Thread(target = thread2, args = [2, 123])\n",
    "th2.start()"
   ]
  },
  {
   "cell_type": "markdown",
   "id": "dcb2b746-5153-4d7b-836e-d305be644a08",
   "metadata": {},
   "source": [
    "**How the code works:**\n",
    "\n",
    "Overall, the code in `t1.py` creates two separate threads that operate on a shared variable `x`: \n",
    "\n",
    "- The first thread `thread1` increments `x` by one, then prints the updated value of `x`, and then sleeps for `param` seconds, in which was passed as `1` when `th1` was instantiated.\n",
    "\n",
    "- The second thread `thread2` doubles `x`, then prints the parameter `param2` (passed as `123`) and the updated value of `x`, and then sleeps for `param1` seconds (passed as `2`). `param1` and `param2` were passed as parameters when `th2` was instantiated.\n",
    "\n",
    "Both threads run continuously due to the infinite `while` loop set to `True` without a break condition. The `threading` library helps to create an environment where two threads _appear_ to run concurrently at the same time. The `sleep()` function from `time` library is used to pause the execution of the current thread for a certain time (number of seconds) before continuing that thread's operation, during this time the thread release CPU resources which allows the other thread to run."
   ]
  },
  {
   "cell_type": "markdown",
   "id": "ac3a43b6-5147-42a6-9cd1-501536dd9e42",
   "metadata": {},
   "source": [
    "**Why it produces two threads that print once per second and once every two seconds:**\n",
    "\n",
    "```python\n",
    "# Create the first thread\n",
    "th1 = threading.Thread(target = thread1, args = [1, ])\n",
    "th1.start()\n",
    "```\n",
    "=> Thread `th1` is created by instantiating a `Thread` object from `threading` module, targeting the `thread1(param)` function with an argument list of `[1, ]`. Since `param` is set to `1`, `time.sleep(param)` will pause for **one second** the execution of `thread1` after each print statement before continue the loop. Therefore this thread approximately **prints once per second**, as it waits for one second between each loop iteration.\n",
    "\n",
    "\n",
    "```python\n",
    "# Create the second thread\n",
    "th2 = threading.Thread(target = thread2, args = [2, 123])\n",
    "th2.start()\n",
    "```\n",
    "\n",
    "=> Similarly, thread `th2` is created by instantiating a `Thread` object from `threading` module, targeting the `thread2(param1, param2)` function with an argument list of `[2, 123]`. Here `param1` is set to `2`, `time.sleep(param1)` will pause for **two seconds** the execution of `thread2` after each print statement. This causes the thread to approximately **print once every two seconds** because it has a two-second pause between each loop iteration."
   ]
  },
  {
   "cell_type": "markdown",
   "id": "2b0249c5-9c96-4cca-88c1-b2075768dd95",
   "metadata": {},
   "source": [
    "**Inconsistency in Thread Execution**\n",
    "\n",
    "Hereunder are few screenshots of the outputs when `t1.py` was run in different environments:\n",
    "\n",
    "- Different outputs of `t1.py` when run in VSCode on MacOS (`CPython`):\n",
    "    - ![](img/q1.1.png)\n",
    "    - ![](img/q1.2.png)\n",
    "\n",
    "\n",
    "- Different outputs of `t1.py` when run on Jupyter Lab on MacOS (`IPython`):\n",
    "    - ![](img/q1.3.png)"
   ]
  },
  {
   "cell_type": "markdown",
   "id": "96a07452-1a46-4e34-bf2b-7ac5be7dd35f",
   "metadata": {},
   "source": [
    "From the screenshots above,the outputs vary with each execution, indicating a race condition affecting the shared variable `x`. Results from CPython in VSCode appear to have fewer variations, potentially due to the reduced overhead compared to IPython. Since Jupyter Lab cells run within an IPython kernel (which is built on top of CPython with extra layers), thread scheduling might be influenced by background tasks and the interactive nature of the environment. Meanwhile, executions in VSCode operate in a  standard CPython environment, the terminal outputs vary less than in Jupyter Lab and may result in a more predictable thread interleaving.\n",
    "\n",
    "The Global Interpreter Lock (GIL) in CPython is designed to manage thread execution, allowing only one thread to execute at a time within a single process. However, despite the presence of the GIL, both environments still display inconsistent results due to the lack of synchronized access to the shared resource in a multi-threaded context. Potential solutions to prevent the race condition could be to implement a threading lock or other synchronization techniques to manage the shared state."
   ]
  },
  {
   "cell_type": "markdown",
   "id": "69d0e732-d9a8-469f-b1bd-6141465d1a54",
   "metadata": {},
   "source": [
    "In summary, `t1.py` uses `threading` to run two threads within the same process and shared memory space, meaning variable `x` is shared between threads, leading to mixed sequence of incremented and doubled output values. Sharing the same global variable as in `t1.py` can lead to inconsistent results and potential race conditions due to interleaved execution and the lack of a synchronization mechanism. \n"
   ]
  },
  {
   "cell_type": "markdown",
   "id": "14ffa623-cd56-482b-b902-b62a56d46c06",
   "metadata": {},
   "source": [
    "# Question 2"
   ]
  },
  {
   "cell_type": "markdown",
   "id": "78e8eeb7-3bb1-4af9-ba25-18cd754e409d",
   "metadata": {},
   "source": [
    "## Question 2a. (2 marks)\n",
    "\n",
    "**Run the code with the following values of “n”, recording whether you get the correct result**:\n",
    "\n",
    "```\n",
    "n = 10, Correct: Y / N\n",
    "n = 1000, Correct: Y / N\n",
    "n = 1000000, Correct: Y / N\n",
    "n = 10000000, Correct: Y / N\n",
    "```"
   ]
  },
  {
   "cell_type": "code",
   "execution_count": null,
   "id": "3a8e2e4d-27e8-42ac-b455-61807ed0bd8f",
   "metadata": {},
   "outputs": [],
   "source": [
    "# t2.py\n",
    "\n",
    "import threading\n",
    "\n",
    "# The number to add.\n",
    "# Change this for your experiment\n",
    "n = 100_000\n",
    "\n",
    "# Result variable\n",
    "result = 0\n",
    "\n",
    "def thread1(count):\n",
    "    global result\n",
    "\n",
    "    x = 0\n",
    "    for i in range(1, count + 1):\n",
    "        x = x + i\n",
    "        result = x\n",
    "\n",
    "        \n",
    "def thread2():\n",
    "    global result\n",
    "    result = result * 3\n",
    "\n",
    "th1 = threading.Thread(target=thread1, args=[n, ])\n",
    "th2 = threading.Thread(target = thread2)\n",
    "\n",
    "th1.start()\n",
    "th2.start()\n",
    "\n",
    "correct = n * (n + 1) / 2 * 3\n",
    "print(\"Correct result is %d.\" % correct)\n",
    "print(\"Final result is %d.\" % result)\n",
    "\n",
    "if result == correct:\n",
    "    print(\"CORRECT!\")\n",
    "else:\n",
    "    print(\"WRONG\")\n"
   ]
  },
  {
   "cell_type": "markdown",
   "id": "86662e26-704d-4db8-994b-8b2f8e0379fc",
   "metadata": {},
   "source": [
    "### Answer for Q2a:"
   ]
  },
  {
   "cell_type": "markdown",
   "id": "3937e9f8-dd9f-4c59-b338-c6b85c657dbc",
   "metadata": {},
   "source": [
    "In general, `t2.py` attempts to calculate sum of all numbers from 1 to `n` and then multiply by `3` using threading.\n",
    "\n",
    "Hereunder are some few sample outputs from multiple executions of `t2.py` with different values of `n`:\n",
    "\n",
    "![](img/q2-1.png)"
   ]
  },
  {
   "cell_type": "markdown",
   "id": "7d162d2a-e18d-446b-850a-bc672419c5d2",
   "metadata": {},
   "source": [
    "Overall, the results' pattern seems to be summed up as following. However this pattern is not guaranteed:\n",
    "```\n",
    "n = 10, Correct: Y\n",
    "n = 1000, Correct: Y\n",
    "n = 1000000, Correct: N\n",
    "n = 10000000, Correct: N\n",
    "```"
   ]
  },
  {
   "cell_type": "markdown",
   "id": "12f76c0f-c5f4-402f-b324-3703309cabff",
   "metadata": {},
   "source": [
    "## Question 2b. (4 marks)\n",
    "**Some of the answers in 2a are incorrect. Explain why you get incorrect results.**"
   ]
  },
  {
   "cell_type": "markdown",
   "id": "5779b61f-d539-4e60-acb8-cdb35c012ea7",
   "metadata": {},
   "source": [
    "### Answer for Q2b:"
   ]
  },
  {
   "cell_type": "markdown",
   "id": "d907ac22-0a96-4815-880f-e83b2a8b3f54",
   "metadata": {},
   "source": [
    "The executions show inconsistent results, especially for large values of `n`. \n",
    "\n",
    "When `n` is relatively small, the results shows more correct results, this might be due to several reasons such as caching or CPU pipelining, thread starting time and scheduling, etc., For instance, the shorter execution time in which `thread1` might have finished changing the shared `result` variable before `thread2` finished its execution, which then decreases the likelihood of conflict. When `n` is large, the time for `thread1` to execute all of its loop iterations might be significantly longer, which then leads to situation where both `thread1` and `thread2` trying to access and modify the shared `result` variable at the same time. \n",
    "\n",
    "**Potential issues**\n",
    "\n",
    "The results of the thread executions with different values of `n` show that as value `n` increases, there is also a higher chance of encountering incorrect results, as both `thread1` and `thread2` trying to enter critical section to access the shared resource simultaneously, which leads to unpredictability in the outputs. Eventhough Python's Global Interpreter Lock (GIL) ensures that only one thread can execute at a time, however, context switching might still happen when another thread is waiting. This pattern is indicative of a race condition (main reason for inconsistent outputs of `t2.py`) where the program does not handle the synchronization of threads accessing and modifying the shared `result` variable. Other contributing reasons might include MacOS's thread scheduler, thread preemption, real-time scheduling policies, etc., however, these factors only worsen the situation where race condition happens without proper synchronization mechanism. \n",
    "\n",
    "**Potential solutions**\n",
    "\n",
    "In order to fix this concurrency problem, a suitable synchronization mechanism should be employed to ensure that `thread2` does not start multiplying `result` until `thread1` has finished adding the numbers. This can be achieved through multiple ways, such as adopting semaphores (access control through the use of a counter) or mutexes (threading lock to ensure mutual exlusion) through `threading.Lock()` or `threading.Semaphore()` in Python. Monitors with conditional variables could also solve this problem, where `thread2` waits on a condition variable until `thread1` gives signal that it has finished. Another solution could be using barrier, in which `thread2` would only process if `thread1` has passed the barrier. Furthermore, thread safe data structures such as Python's `queue` module with First-In-First-Out (FIFO) implementation can also ensure the order of thread execution where `thread2` only retrieves `result` after `thread1` has finished. \n",
    "\n",
    "The following table is a summary of potential synchronization solutions to handle the race condition in `t2.py`. However, depending on the OS/Device and different scenarios, other mechanisms not listed here could be more beneficial to their specific use case and scope.\n",
    "\n",
    "![](img/q2-2.png)"
   ]
  },
  {
   "cell_type": "markdown",
   "id": "6b75da79-df75-4551-ae4d-5933243d27e7",
   "metadata": {},
   "source": [
    "# Question 3. (4 marks)\n",
    "**t3.py now shows the correct result even for large n. Explain, using the idea of queues, how this program works to give the correct result. You may Google for what queues are.**"
   ]
  },
  {
   "cell_type": "code",
   "execution_count": null,
   "id": "0b9153a0-e5de-49c8-bd9d-483457bce0c5",
   "metadata": {},
   "outputs": [],
   "source": [
    "# t3.py\n",
    "\n",
    "import threading\n",
    "from queue import Queue\n",
    "\n",
    "resultQ = Queue()\n",
    "finalQ = Queue()\n",
    "\n",
    "# The number to add.\n",
    "# Change this for your experiment\n",
    "n = 10\n",
    "\n",
    "def thread1(count):\n",
    "    global resultQ\n",
    "    x = 0\n",
    "    for i in range(1, count + 1):\n",
    "        x = x + i \n",
    "    \n",
    "    resultQ.put(x)\n",
    "\n",
    "def thread2():\n",
    "    global resultQ\n",
    "    global finalQ\n",
    "    result = resultQ.get()\n",
    "    result = result * 3\n",
    "    finalQ.put(result)\n",
    "\n",
    "th1 = threading.Thread(target = thread1, args=[n, ])\n",
    "th2 = threading.Thread(target = thread2)\n",
    "\n",
    "th1.start()\n",
    "th2.start()\n",
    "\n",
    "correct = n * (n + 1) / 2 * 3 \n",
    "print(\"Correct result is %d.\" % correct)\n",
    "\n",
    "finalResult = finalQ.get()\n",
    "print(\"Final result is %d.\" % finalResult)\n",
    "\n",
    "if finalResult == correct:\n",
    "    print(\"CORRECT!\")\n",
    "else:\n",
    "     print(\"WRONG!\")"
   ]
  },
  {
   "cell_type": "markdown",
   "id": "556acdac-93cf-4501-80ce-a1c68799439c",
   "metadata": {},
   "source": [
    "## Answer for Q3:"
   ]
  },
  {
   "cell_type": "markdown",
   "id": "dcd1b16c-79ee-4f9f-ad3e-f65361c2097c",
   "metadata": {},
   "source": [
    "Both `t2.py` and `t3.py` use threading to calculate the sum of numbers from 1 to `n` and then multiply the sum by 3. The key difference is that `t3.py` uses queues to handle data sharing between threads, which ensures that the threads access and modify shared data in a thread-safe manner, leading to consistent and correct results."
   ]
  },
  {
   "cell_type": "markdown",
   "id": "f82600dd-9d28-4694-b5ac-ce9bd5fdf963",
   "metadata": {},
   "source": [
    "The following diagram gives an overview visualization of how `t3.py` works:\n",
    "\n",
    "![](img/q3.1.png)"
   ]
  },
  {
   "cell_type": "markdown",
   "id": "42758e3a-9317-4b97-8379-5df3c2c59e5c",
   "metadata": {},
   "source": [
    "The `Queue` in Python is basically a sequential collection of data or linear data structure, in which order of data elements is strictly First In First Out (FIFO). \n",
    "\n",
    "**Main `Queue` operations used in `t3.py`**:\n",
    "- Enqueue (`put()`): Insert an element to the end of the queue.\n",
    "- Dequeue (`get()`): Remove and return an element from the start of the queue."
   ]
  },
  {
   "cell_type": "markdown",
   "id": "cf9c9e47-b6d3-4d28-aa73-0242c3c4187f",
   "metadata": {},
   "source": [
    "**Main flow of `t3.py`**:\n",
    "\n",
    "- Initialization by the main thread:\n",
    "    - Sets `n` as the number up to which the sum is calculated.\n",
    "    \n",
    "    - Initializes two queues, `resultQ` for the sum and `finalQ` for the tripled result.\n",
    "\n",
    "\n",
    "- Execution of `thread1`:\n",
    "    - Computes the sum of numbers up to `n`.\n",
    "    \n",
    "    - Places the sum in `resultQ` using `resultQ.put(sum)` (an **enqueue** operation).\n",
    "\n",
    "\n",
    "- Execution of `thread2`:\n",
    "    - Waits for the sum to be available in `resultQ`.\n",
    "    \n",
    "    - Retrieves the sum with `resultQ.get()` (a **dequeue** operation).\n",
    "    \n",
    "    - Multiplies the sum by 3 and enqueues the result into `finalQ` (an **enqueue** operation).\n",
    "\n",
    "\n",
    "- Result retrieval and verification by the main thread:\n",
    "    - Calculates the expected correct result using a mathematical formula.\n",
    "    \n",
    "    - Retrieves the final result from `finalQ` with `finalQ.get()` (a **dequeue** operation) and prints it.\n",
    "    \n",
    "    - Compares the retrieved result with the expected result and prints whether they match."
   ]
  },
  {
   "cell_type": "markdown",
   "id": "58a5a89e-7973-48e5-9617-1214808bcf4a",
   "metadata": {},
   "source": [
    "**Key difference between `t2.py` and `t3.py`**:\n",
    "\n",
    "| Aspect | `t2.py` | `t3.py` |\n",
    "|--------|---------|---------|\n",
    "| **Synchronization mechanism** | None. Direct access to global variable | Thread-safe queues (`Queue`) used to pass data between threads |\n",
    "| **Race condition** | Present. `thread2` can access `result` before `thread1` completes its task | Not present. `thread2` starts after `thread1` puts the result in `resultQ` |\n",
    "| **Execution order** | Not controlled. Threads execute concurrently with no enforced order | Enforced order. `thread2` waits for `thread1` to complete via queue |\n",
    "| **Data sharing** | Global variable `result` accessed by both threads | Each thread has its own local data until they put or get from the queues |\n",
    "| **Thread communication** | Implicit. Based on shared global state | Explicit. Through the `put()` and `get()` methods of the queues |\n",
    "| **Safety of operation** | Not safe. Concurrent modifications without locks | Safe. Queues handle internal locking mechanisms |\n",
    "| **Result consistency** | Inconsistent and often incorrect due to race condition | Consistent and correct as operations are properly sequenced |\n",
    "| **Blocking operations** | No blocking. Threads run without waiting for each other | Blocking `get()` method used to wait for the queue to be filled |\n",
    "| **Debugging difficulty** | High. Race conditions are hard to replicate and debug | Lower. Controlled execution flow and no shared state modifications |"
   ]
  },
  {
   "cell_type": "markdown",
   "id": "13df1340-c7ca-4c1a-b991-b3d0701e8655",
   "metadata": {},
   "source": [
    "The usage of queues in `t3.py` is essential for synchronization. The queues act like a FIFO buffer, which is conceptually similar to the FCFS (First-Come, First-Served) scheduling algorithm. \n",
    "\n",
    "In `t3.py`, the `Queue` module provides thread safety by using internal locks that ensure that only one thread can access a queue at a time. This is alike to synchronization hardware where atomic instructions prevent race conditions. The thread-safe `Queue` class also ensures that elements are processed in the exact order they are added. \n",
    "\n",
    "In the context of `t3.py`, `queue.get()` serves as a blocking mechanism, ensuring sequential execution where necessary. For example, this means that `thread2` will always wait for `thread1` to complete its task and place the sum in `resultQ` before proceeding with its multiplication task, thus preventing any race conditions.\n",
    "\n",
    "`t3.py` demonstrates how thread-safe queues and enforced sequential access can effectively be used to implement a producer-consumer scenario where `thread1` (the producer) safely passes data to `thread2` (the consumer) without any race conditions, ensuring the final result is always correct."
   ]
  },
  {
   "cell_type": "markdown",
   "id": "302099f8-cdcb-4e92-b13c-cc659d5e0d16",
   "metadata": {},
   "source": [
    "# Question 4. (2 marks)"
   ]
  },
  {
   "cell_type": "code",
   "execution_count": null,
   "id": "f0d49a49-a18c-4fa7-b924-c3da194464c1",
   "metadata": {},
   "outputs": [],
   "source": [
    "# p1.py\n",
    "\n",
    "import multiprocessing\n",
    "import time\n",
    "\n",
    "x = 1\n",
    "\n",
    "# First thread. We pass in one parameter\n",
    "def process1(param):\n",
    "    global x\n",
    "    while True:\n",
    "        x = x + 1\n",
    "        print(\"This is process 1. x is %d\" % x)\n",
    "        time.sleep(param)\n",
    "\n",
    "# Second process. We pass in two parameters\n",
    "def process2(param1, param2):\n",
    "    global x\n",
    "    while True:\n",
    "        x = x * 2\n",
    "        print(\"This is process 2. Param 2 is %d. x is %d\" % (param2, x))\n",
    "        time.sleep(param1)\n",
    "\n",
    "def main():\n",
    "    # Create the first thread\n",
    "    p1 = multiprocessing.Process(target=process1, args=[1, ])\n",
    "    p1.start()\n",
    "    p2 = multiprocessing.Process(target=process2, args=[2, 123])\n",
    "    p2.start()\n",
    "\n",
    "if __name__ == \"__main__\":\n",
    "    main()\n"
   ]
  },
  {
   "cell_type": "markdown",
   "id": "3d57f6b0-87f0-4cab-98b3-cd5d122859b8",
   "metadata": {},
   "source": [
    "**Since p1.py and t1.py are essentially the same program, they should produce the same results, but do not. Explain why.**"
   ]
  },
  {
   "cell_type": "markdown",
   "id": "6a435a2b-8e24-4e41-86c3-f2a7f4980d7e",
   "metadata": {},
   "source": [
    "## Answer for Q4:"
   ]
  },
  {
   "cell_type": "markdown",
   "id": "75b6496c-3568-4a98-90bf-cee09a1e18e2",
   "metadata": {},
   "source": [
    "Some samples of terminal outputs of `p1.py`:\n",
    "\n",
    "![](img/q4.1.png)\n",
    "![](img/q4.2.png)"
   ]
  },
  {
   "cell_type": "markdown",
   "id": "f9a7132f-e154-4a18-a20f-f0a9d5714beb",
   "metadata": {},
   "source": [
    "Both `t1.py` and `p1.py` aim to concurrently modify the shared variable `x` through addition and multiplication operations. Syntactically they are similar, in which they share majority of the structure and code layout with the identical logic flow. The main syntactical differences are caused by using different concurrency modules as `threading` in `t1.py` and `multiprocessing` in `p1.py`, which reflect how each program approaches concurrency differently that eventually leads to different terminal outputs.\n",
    "\n"
   ]
  },
  {
   "cell_type": "markdown",
   "id": "1fe09506-d270-47f2-b6d2-54be9bfdfd41",
   "metadata": {},
   "source": [
    "The key differences between `t1.py` and `p1.py` are highlighted as following:"
   ]
  },
  {
   "cell_type": "markdown",
   "id": "1f27b811-8cc9-476f-8dd2-5121e171d7ac",
   "metadata": {},
   "source": [
    "| Aspect                       | `t1.py` with Threading                     | `p1.py` with Multiprocessing                 |\n",
    "|------------------------------|--------------------------------------------|---------------------------------------------|\n",
    "| **Concurrency model**        | Threads                                   | Processes                                   |\n",
    "| **Module imported**              | `threading`                               | `multiprocessing`                           |\n",
    "| **Global variable sharing**  | Shared among threads                      | Not shared; each process has its own copy   |\n",
    "| **Modification of `x`**      | `x` is modified by all threads            | `x` is modified by each process independently|\n",
    "| **Synchronization mechanism**| Not present; prone to race conditions      | Not necessary; processes are independent    |\n",
    "| **Output pattern**           | Interleaved and dependent on thread execution order | Parallel and consistent within each process |\n",
    "| **Memory space**             | Shared among threads                       | Independent for each process                |\n",
    "| **Execution**                | Concurrent execution within a single Python interpreter | Parallel execution in separate interpreters |\n",
    "| **Result consistency**       | Inconsistent due to lack of synchronization | Consistent as each process operates independently |\n",
    "| **Process/Thread Safety**    | Unsafe without explicit locks or synchronization | Safe as each process operates in a separate memory space |\n",
    "| **Implications**             | Potential for concurrent access issues; requires careful management of shared data | More overhead but better isolation; eliminates most concurrent access issues |"
   ]
  },
  {
   "cell_type": "markdown",
   "id": "a09e026a-8423-4391-b880-b9782dcc5a4f",
   "metadata": {},
   "source": [
    "`t1.py` uses `threading` to run two threads within the same process and shared memory space, meaning variable `x` is shared between threads, leading to mixed sequence of incremented and doubled output values. Sharing the same global variable as in `t1.py` can lead to inconsistent results and potential race conditions due to interleaved execution and the lack of a synchronization mechanism. \n",
    "\n",
    "While `p1.py` uses `multiprocessing` to create two separate processes, each with isolated memory space with its own copy of global variable `x`, allowing for true parallel execution across multiple CPU cores, resulting in two separate output sequences with consisten results: one of incremented values and one of doubled values.\n",
    "\n",
    "However, for `p1.py`, the processes' output in to the terminal can still occur in an unpredictable sequence due to the operating system's process scheduling. Even though processes can run in parallel, without explicit management of their execution order, the printed outputs may not follow a consistent order, and one process might output several times before another starts, similar to the threading scenario discussed in Question 1 about `t1.py`."
   ]
  },
  {
   "cell_type": "markdown",
   "id": "b00f5ccc-bb72-423f-a9f3-290e4225d47e",
   "metadata": {},
   "source": [
    "# Question 5. (5 marks)\n",
    "\n",
    "You can use queues to fix `p1.py` so that it produces the same result as `t1.py`. To do this:\n",
    "    a. Change `process1` so that it increments `x` by 1 and sends it over to `process2`. It then waits for the result from `process2`.\n",
    "    b. Change `process2` so that it waits for the result from `process1`, multiplies it by 2 then sends it back to `process1`.\n",
    "\n",
    "IMPORTANT NOTE: For this to work correctly, you must use the `multiprocessing` version of `Queue`. So within your code, import `Queue` from `multiprocessing` instead of from `queue`. That is:\n",
    "\n",
    "DO NOT DO THIS:\n",
    "```python\n",
    "from queue import Queue\n",
    "```\n",
    "DO THIS INSTEAD:\n",
    "```python\n",
    "from multiprocessing import Queue`\n",
    "```\n",
    "\n",
    "**Detail the changes you made to p1.py to make it give the same results at t1.py below and explain why it works.**"
   ]
  },
  {
   "cell_type": "markdown",
   "id": "b747830f-ded2-43d2-8ef6-cfa1ca29ec76",
   "metadata": {},
   "source": [
    "## Answer for Q5:"
   ]
  },
  {
   "cell_type": "markdown",
   "id": "9e1964c8-3c67-475a-b871-e041423d0bec",
   "metadata": {},
   "source": [
    "`t1.py` has an inherent inconsistency due to the Python's Global Interpreter Lock and the scheduler's management of threads. When using Python's `multiprocessing` module, which process gets executed first will be determined by the OS's scheduling, which can introduce certain randomness or concurrent, especially on a multi-core processor where true parallelism can occur. Therefore, a similar level of unpredictability in the execution of the processes can also be simulated in `modified-p1-1.py`.\n",
    "\n",
    "The `modified-p1-1.py` below is the modified version of `p1.py` to simulate the behaviour of `t1.py`.\n"
   ]
  },
  {
   "cell_type": "code",
   "execution_count": null,
   "id": "c92ef836-5889-4e9b-bf50-4245c187ef3d",
   "metadata": {},
   "outputs": [],
   "source": [
    "# modified-p1-1.py\n",
    "\n",
    "import multiprocessing\n",
    "import time\n",
    "\n",
    "def process1(q, param):\n",
    "    while True:\n",
    "        x = q.get()  \n",
    "        x = x + 1\n",
    "        print(\"This is process 1. x is %d\" % x)\n",
    "        q.put(x)\n",
    "        time.sleep(param)\n",
    "\n",
    "def process2(q, param1, param2):\n",
    "    while True:\n",
    "        x = q.get()\n",
    "        x = x * 2\n",
    "        print(\"This is process 2. Param 2 is %d. x is %d\" % (param2, x))\n",
    "        q.put(x)\n",
    "        time.sleep(param1)\n",
    "\n",
    "def main():\n",
    "    q = multiprocessing.Queue()\n",
    "\n",
    "    q.put(1)\n",
    "\n",
    "    p1 = multiprocessing.Process(target=process1, args=[q, 1])\n",
    "    p2 = multiprocessing.Process(target=process2, args=[q, 2, 123])\n",
    "\n",
    "    p1.start()\n",
    "    p2.start()\n",
    "\n",
    "    p1.join()\n",
    "    p2.join()\n",
    "\n",
    "if __name__ == \"__main__\":\n",
    "    main()\n"
   ]
  },
  {
   "cell_type": "markdown",
   "id": "fb8af6d0-27dc-421f-9b2e-8cc2d4156ddd",
   "metadata": {},
   "source": [
    "Sample terminal outputs from multiple executions of `modified-p1-1.py`:\n",
    "\n",
    "![](img/q5-1.png)\n",
    "![](img/q5-2.png)\n",
    "![](img/q5-3.png)"
   ]
  },
  {
   "cell_type": "markdown",
   "id": "febcc341-4d53-4b83-a24a-2f4337bf7a67",
   "metadata": {},
   "source": [
    "Key changes made:\n",
    "\n",
    "| Aspect             | p1.py                                    | modified-p1-1.py                           |                                                                                                                                          \n",
    "|--------------------|------------------------------------------|--------------------------------------------|\n",
    "| **Global variable**    | `x = 1` defined globally                | Global `x` is removed                     |                                       \n",
    "| **Process functions**  | `process1` and `process2` use `global x` | `process1` and `process2` use a Queue `q` |                                             \n",
    "| **Parameter handling** | `process1` takes one parameter, `process2` takes two | Both functions take an additional parameter `q`, which is the Queue instance |\n",
    "| **Main function**      | Processes `p1` and `p2` are started without initializing `x` | `main` initializes a Queue `q`, uses `q.put(1)` to set the initial `x` value, and then starts `p1` and `p2` | \n",
    "| **Starting value of `x`** | `x` is initialized to `1` as a global variable | `q.put(1)` is used to simulate the initial setting of `x` to `1` | \n",
    "| **Process execution**  | No synchronization in accessing `x`     | Synchronization is achieved using `q.get()` and `q.put()` | \n",
    "| **Termination**        | Processes run indefinitely without main waiting for them | `main` waits for process termination with `join()` |"
   ]
  },
  {
   "cell_type": "markdown",
   "id": "a64a08b9-8998-481d-a1b3-b182cab153c9",
   "metadata": {},
   "source": [
    "The key change is the replacement of the global variable `x` with a multiprocessing `Queue` to manage the shared state between processes. The initial value of `x`, previously set as global variable, which then be copied into individual process' separate space, now is initialized by using `q.put(1)`, which places the value into the shared `q`. Both `process1` and `process2` are now accepting `q` as a parameter, enabling them to retrieve and update the value of `x`, ensuring safe inter-process communication. The modified code ensures that access to `x` is synchronized between processes, using the Queue's `q.get()` and `q.put()` methods, which are inherently thread-safe and prevent race conditions."
   ]
  },
  {
   "cell_type": "markdown",
   "id": "d60d2927-a271-46e8-acd2-f8774dc1c9a2",
   "metadata": {},
   "source": [
    "Since the `Queue` ensures that processes access the shared variable `x` one at a time, it is harder to simulate the race condition that happened in `t1.py`. Furthermore, bypassing the synchronization mechanism provided by the `Queue` would defeat the purpose of using `Queue`."
   ]
  }
 ],
 "metadata": {
  "kernelspec": {
   "display_name": "Python 3 (ipykernel)",
   "language": "python",
   "name": "python3"
  },
  "language_info": {
   "codemirror_mode": {
    "name": "ipython",
    "version": 3
   },
   "file_extension": ".py",
   "mimetype": "text/x-python",
   "name": "python",
   "nbconvert_exporter": "python",
   "pygments_lexer": "ipython3",
   "version": "3.8.12"
  },
  "toc-autonumbering": true,
  "toc-showcode": false,
  "toc-showmarkdowntxt": false,
  "toc-showtags": false
 },
 "nbformat": 4,
 "nbformat_minor": 5
}
